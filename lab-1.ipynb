{
 "cells": [
  {
   "cell_type": "markdown",
   "metadata": {},
   "source": [
    "### Import modules"
   ]
  },
  {
   "cell_type": "code",
   "execution_count": 1,
   "metadata": {},
   "outputs": [
    {
     "name": "stdout",
     "output_type": "stream",
     "text": [
      "All modules imported\n"
     ]
    }
   ],
   "source": [
    "import hashlib\n",
    "import os\n",
    "import pickle\n",
    "from urllib.request import urlretrieve\n",
    "import numpy as np\n",
    "from PIL import Image\n",
    "from sklearn.model_selection import train_test_split\n",
    "from sklearn.preprocessing import LabelBinarizer, MinMaxScaler\n",
    "from sklearn.utils import resample\n",
    "from tqdm import tqdm\n",
    "from zipfile import ZipFile\n",
    "import matplotlib.pyplot as plt\n",
    "import tensorflow as tf\n",
    "import math\n",
    "\n",
    "%matplotlib inline\n",
    "\n",
    "print('All modules imported')"
   ]
  },
  {
   "cell_type": "markdown",
   "metadata": {},
   "source": [
    "### Download `notMNIST` data set"
   ]
  },
  {
   "cell_type": "code",
   "execution_count": 3,
   "metadata": {},
   "outputs": [
    {
     "name": "stdout",
     "output_type": "stream",
     "text": [
      "Downloading notMNIST_train-1.zip\n",
      "Download finished\n",
      "Downloading notMNIST_test-1.zip\n",
      "Download finished\n"
     ]
    }
   ],
   "source": [
    "def download(url, file):\n",
    "    if not os.path.isfile(file):\n",
    "        print('Downloading {}'.format(file))\n",
    "        urlretrieve(url, file)\n",
    "        print('Download finished')\n",
    "\n",
    "train_url = 'https://s3.amazonaws.com/udacity-sdc/notMNIST_train.zip'\n",
    "train_file = 'notMNIST_train-1.zip'\n",
    "test_url = 'https://s3.amazonaws.com/udacity-sdc/notMNIST_test.zip'\n",
    "test_file = 'notMNIST_test-1.zip'\n",
    "\n",
    "download(train_url, train_file)\n",
    "download(test_url, test_file)\n",
    "\n",
    "assert hashlib.md5(open(train_file, 'rb').read()).hexdigest() \\\n",
    "== 'c8673b3f28f489e9cdf3a3d74e2ac8fa', '{} is corrupted.'.format(train_file)\n",
    "assert hashlib.md5(open(test_file, 'rb').read()).hexdigest() \\\n",
    "== '5d3c7e653e63471c88df796156a9dfa9', '{} is corrupted.'.format(test_file)"
   ]
  },
  {
   "cell_type": "code",
   "execution_count": 4,
   "metadata": {},
   "outputs": [],
   "source": [
    "def uncompress_features_labels(file):\n",
    "    \"\"\"\n",
    "    Uncompress features and labels from a zip file\n",
    "    return np.array\n",
    "    \"\"\"\n",
    "    features = []\n",
    "    labels = []\n",
    "\n",
    "    with ZipFile(file) as zipf:\n",
    "        filenames_bar = tqdm(zipf.namelist(), unit='files')\n",
    "\n",
    "        for filename in filenames_bar:\n",
    "            if not filename.endswith('/'):\n",
    "                with zipf.open(filename) as imagefile:\n",
    "                    image = Image.open(imagefile)\n",
    "                    image.load()\n",
    "                    feature = np.array(image, dtype=np.float32).flatten()\n",
    "                label = os.path.split(filename)[1][0]\n",
    "                features.append(feature)\n",
    "                labels.append(label)\n",
    "\n",
    "    features = np.array(features)\n",
    "    labels = np.array(labels)\n",
    "    \n",
    "    return features, labels"
   ]
  },
  {
   "cell_type": "code",
   "execution_count": 5,
   "metadata": {},
   "outputs": [
    {
     "name": "stderr",
     "output_type": "stream",
     "text": [
      "100%|█████████████████████████████████████████████████████████████████████| 210001/210001 [00:39<00:00, 5274.43files/s]\n",
      "100%|███████████████████████████████████████████████████████████████████████| 10001/10001 [00:01<00:00, 5374.32files/s]\n"
     ]
    },
    {
     "name": "stdout",
     "output_type": "stream",
     "text": [
      "Train size: 210000, test size: 10000\n"
     ]
    }
   ],
   "source": [
    "train_features, train_labels = uncompress_features_labels('notMNIST_train-1.zip')\n",
    "test_features, test_labels = uncompress_features_labels('notMNIST_test-1.zip')\n",
    "print('Train size: {}, test size: {}'.format(train_features.shape[0], test_features.shape[0]))"
   ]
  },
  {
   "cell_type": "code",
   "execution_count": 7,
   "metadata": {},
   "outputs": [
    {
     "name": "stdout",
     "output_type": "stream",
     "text": [
      "(210000, 784) (210000,) (10000, 784) (10000,)\n"
     ]
    }
   ],
   "source": [
    "print(train_features.shape, train_labels.shape, test_features.shape, test_labels.shape)"
   ]
  },
  {
   "cell_type": "code",
   "execution_count": 11,
   "metadata": {},
   "outputs": [
    {
     "name": "stdout",
     "output_type": "stream",
     "text": [
      "A\n"
     ]
    },
    {
     "data": {
      "image/png": "[encoded data removed]",
      "text/plain": [
       "<PIL.Image.Image image mode=L size=28x28 at 0x218C3765710>"
      ]
     },
     "execution_count": 11,
     "metadata": {},
     "output_type": "execute_result"
    }
   ],
   "source": [
    "print(train_labels[0])\n",
    "img = train_features[0].reshape((28, 28)).astype(np.uint8)\n",
    "Image.fromarray(img)"
   ]
  },
  {
   "cell_type": "code",
   "execution_count": 55,
   "metadata": {},
   "outputs": [
    {
     "name": "stdout",
     "output_type": "stream",
     "text": [
      "Image indexes: [199340  43567 173685 117952 176963 152315  95939  97639  41993 122579]\n"
     ]
    },
    {
     "data": {
      "image/png": "[encoded data removed]",
      "text/plain": [
       "<matplotlib.figure.Figure at 0x218c6828898>"
      ]
     },
     "metadata": {},
     "output_type": "display_data"
    },
    {
     "data": {
      "image/png": "[encoded data removed]",
      "text/plain": [
       "<matplotlib.figure.Figure at 0x218c37b2080>"
      ]
     },
     "metadata": {},
     "output_type": "display_data"
    },
    {
     "data": {
      "image/png": "[encoded data removed]",
      "text/plain": [
       "<matplotlib.figure.Figure at 0x218c67c3588>"
      ]
     },
     "metadata": {},
     "output_type": "display_data"
    },
    {
     "data": {
      "image/png": "[encoded data removed]",
      "text/plain": [
       "<matplotlib.figure.Figure at 0x218c65e16a0>"
      ]
     },
     "metadata": {},
     "output_type": "display_data"
    },
    {
     "data": {
      "image/png": "[encoded data removed]",
      "text/plain": [
       "<matplotlib.figure.Figure at 0x218c68aa208>"
      ]
     },
     "metadata": {},
     "output_type": "display_data"
    },
    {
     "data": {
      "image/png": "[encoded data removed]",
      "text/plain": [
       "<matplotlib.figure.Figure at 0x218c6845470>"
      ]
     },
     "metadata": {},
     "output_type": "display_data"
    },
    {
     "data": {
      "image/png": "[encoded data removed]",
      "text/plain": [
       "<matplotlib.figure.Figure at 0x218c687d5c0>"
      ]
     },
     "metadata": {},
     "output_type": "display_data"
    },
    {
     "data": {
      "image/png": "[encoded data removed]",
      "text/plain": [
       "<matplotlib.figure.Figure at 0x218c65eb978>"
      ]
     },
     "metadata": {},
     "output_type": "display_data"
    },
    {
     "data": {
      "image/png": "[encoded data removed]",
      "text/plain": [
       "<matplotlib.figure.Figure at 0x218c6662748>"
      ]
     },
     "metadata": {},
     "output_type": "display_data"
    },
    {
     "data": {
      "image/png": "[encoded data removed]",
      "text/plain": [
       "<matplotlib.figure.Figure at 0x218c67ff0f0>"
      ]
     },
     "metadata": {},
     "output_type": "display_data"
    }
   ],
   "source": [
    "%matplotlib inline\n",
    "np.random.seed(0)\n",
    "img_idx = np.random.randint(train_features.shape[0], size=10)\n",
    "print('Image indexes:', img_idx)\n",
    "for n in img_idx:\n",
    "    img = train_features[n].reshape((28, 28)).astype(np.uint8)\n",
    "    plt.figure(figsize=(1, 1))\n",
    "    plt.imshow(img, 'gray')\n",
    "    plt.title('Label = {}'.format(train_labels[n]))\n",
    "    plt.show()"
   ]
  },
  {
   "cell_type": "markdown",
   "metadata": {},
   "source": [
    "### Normalize features"
   ]
  },
  {
   "cell_type": "code",
   "execution_count": 60,
   "metadata": {},
   "outputs": [],
   "source": [
    "scaler = MinMaxScaler(feature_range=(0.1, 0.9))\n",
    "train_features = scaler.fit_transform(train_features)\n",
    "test_features = scaler.fit_transform(test_features)"
   ]
  },
  {
   "cell_type": "markdown",
   "metadata": {},
   "source": [
    "### Binarize labels"
   ]
  },
  {
   "cell_type": "code",
   "execution_count": 61,
   "metadata": {},
   "outputs": [],
   "source": [
    "lb = LabelBinarizer()\n",
    "train_labels = lb.fit_transform(train_labels)\n",
    "test_labels = lb.fit_transform(test_labels)"
   ]
  },
  {
   "cell_type": "markdown",
   "metadata": {},
   "source": [
    "### Save pickle files"
   ]
  },
  {
   "cell_type": "code",
   "execution_count": 66,
   "metadata": {},
   "outputs": [
    {
     "name": "stdout",
     "output_type": "stream",
     "text": [
      "Saving data to pickle file...\n",
      "Data cashed in pickle file.\n"
     ]
    }
   ],
   "source": [
    "pickle_file = 'notMNIST.pickle'\n",
    "if not os.path.isfile(pickle_file):\n",
    "    print('Saving data to pickle file...')\n",
    "    try:\n",
    "        with open(pickle_file, 'wb') as pfile:\n",
    "            pickle.dump({\n",
    "                'train_features': train_features, \n",
    "                'train_labels': train_labels,\n",
    "                'test_features': test_features,\n",
    "                'test_labels': test_labels,\n",
    "                        }, pfile, pickle.HIGHEST_PROTOCOL)\n",
    "    except:\n",
    "        print('Unable to save data to', pickle_file, ':', e)\n",
    "        raise\n",
    "        \n",
    "print('Data cashed in pickle file.')"
   ]
  },
  {
   "cell_type": "markdown",
   "metadata": {},
   "source": [
    "### Reload data from pickle file"
   ]
  },
  {
   "cell_type": "code",
   "execution_count": 2,
   "metadata": {},
   "outputs": [
    {
     "name": "stdout",
     "output_type": "stream",
     "text": [
      "Data loaded.\n"
     ]
    }
   ],
   "source": [
    "pickle_file = 'notMNIST.pickle'\n",
    "with open(pickle_file, 'rb') as pfile:\n",
    "    pickle_data = pickle.load(pfile)\n",
    "    train_features = pickle_data['train_features']\n",
    "    train_labels = pickle_data['train_labels']\n",
    "    test_features = pickle_data['test_features']\n",
    "    test_labels = pickle_data['test_labels']\n",
    "    del pickle_data\n",
    "    \n",
    "print('Data loaded.')"
   ]
  },
  {
   "cell_type": "markdown",
   "metadata": {},
   "source": [
    "### Create tensors"
   ]
  },
  {
   "cell_type": "code",
   "execution_count": 4,
   "metadata": {},
   "outputs": [
    {
     "data": {
      "text/plain": [
       "TensorShape([Dimension(10)])"
      ]
     },
     "execution_count": 4,
     "metadata": {},
     "output_type": "execute_result"
    }
   ],
   "source": [
    "features_count = 784\n",
    "labels_count = 10\n",
    "\n",
    "features = tf.placeholder(tf.float32)\n",
    "labels = tf.placeholder(tf.float32)\n",
    "\n",
    "weights = tf.Variable(tf.truncated_normal((features_count, labels_count)))\n",
    "biases = tf.Variable(tf.zeros(labels_count))\n",
    "\n",
    "biases.get_shape()"
   ]
  },
  {
   "cell_type": "code",
   "execution_count": 5,
   "metadata": {},
   "outputs": [],
   "source": [
    "train_features, valid_features, train_labels, valid_labels = train_test_split(train_features, \n",
    "                                                                              train_labels, \n",
    "                                                                              test_size=0.05, \n",
    "                                                                              random_state=0)"
   ]
  },
  {
   "cell_type": "code",
   "execution_count": 114,
   "metadata": {},
   "outputs": [
    {
     "name": "stdout",
     "output_type": "stream",
     "text": [
      "1e-30\n",
      "0.06262656\n"
     ]
    }
   ],
   "source": [
    "train_feed_dict = {features: train_features, labels: train_labels}\n",
    "valid_feed_dict = {features: valid_features, labels: valid_labels}\n",
    "test_feed_dict = {features: test_features, labels: test_labels}\n",
    "\n",
    "logits = tf.matmul(features, weights) + biases\n",
    "\n",
    "prediction = tf.maximum(tf.nn.softmax(logits), 1.0e-30)\n",
    "\n",
    "cross_entropy = -tf.reduce_sum(labels * tf.log(prediction), axis=1)\n",
    "\n",
    "loss = tf.reduce_mean(cross_entropy, axis=0)\n",
    "\n",
    "init = tf.global_variables_initializer()\n",
    "\n",
    "is_correct_prediction = tf.equal(tf.argmax(prediction, 1), tf.argmax(labels, 1))\n",
    "\n",
    "accuracy = tf.reduce_mean(tf.cast(is_correct_prediction, tf.float32), axis=0)\n",
    "\n",
    "\n",
    "with tf.Session() as session:\n",
    "    session.run(init)\n",
    "    p = session.run(prediction, feed_dict=train_feed_dict)\n",
    "    l = session.run(loss, feed_dict=train_feed_dict)\n",
    "    d = session.run(logits, feed_dict=train_feed_dict)\n",
    "    a = session.run(accuracy, feed_dict=train_feed_dict)\n",
    "    idx = np.argmax(np.isnan(l)==True)\n",
    "#     if idx!=0:\n",
    "#         print(idx)\n",
    "#         print(p[idx])\n",
    "# #         print(d[idx])\n",
    "#         ll = session.run(tf.log(p[idx]))\n",
    "#         print(ll)\n",
    "    print(p.min())\n",
    "    print(a)\n",
    "# 3907 is nan"
   ]
  },
  {
   "cell_type": "code",
   "execution_count": 130,
   "metadata": {},
   "outputs": [
    {
     "name": "stderr",
     "output_type": "stream",
     "text": [
      "Epoc  1/20: 100%|███████████████████████████████████████████████████████████████| 100/100 [00:03<00:00, 31.81batches/s]\n",
      "Epoc  2/20: 100%|███████████████████████████████████████████████████████████████| 100/100 [00:03<00:00, 32.21batches/s]\n",
      "Epoc  3/20: 100%|███████████████████████████████████████████████████████████████| 100/100 [00:03<00:00, 31.36batches/s]\n",
      "Epoc  4/20: 100%|███████████████████████████████████████████████████████████████| 100/100 [00:03<00:00, 31.27batches/s]\n",
      "Epoc  5/20: 100%|███████████████████████████████████████████████████████████████| 100/100 [00:03<00:00, 31.61batches/s]\n",
      "Epoc  6/20: 100%|███████████████████████████████████████████████████████████████| 100/100 [00:03<00:00, 30.26batches/s]\n",
      "Epoc  7/20: 100%|███████████████████████████████████████████████████████████████| 100/100 [00:03<00:00, 32.65batches/s]\n",
      "Epoc  8/20: 100%|███████████████████████████████████████████████████████████████| 100/100 [00:03<00:00, 32.49batches/s]\n",
      "Epoc  9/20: 100%|███████████████████████████████████████████████████████████████| 100/100 [00:03<00:00, 43.75batches/s]\n",
      "Epoc 10/20: 100%|███████████████████████████████████████████████████████████████| 100/100 [00:03<00:00, 32.32batches/s]\n",
      "Epoc 11/20: 100%|███████████████████████████████████████████████████████████████| 100/100 [00:03<00:00, 47.13batches/s]\n",
      "Epoc 12/20: 100%|███████████████████████████████████████████████████████████████| 100/100 [00:03<00:00, 31.59batches/s]\n",
      "Epoc 13/20: 100%|███████████████████████████████████████████████████████████████| 100/100 [00:03<00:00, 45.03batches/s]\n",
      "Epoc 14/20: 100%|███████████████████████████████████████████████████████████████| 100/100 [00:03<00:00, 32.48batches/s]\n",
      "Epoc 15/20: 100%|███████████████████████████████████████████████████████████████| 100/100 [00:03<00:00, 45.73batches/s]\n",
      "Epoc 16/20: 100%|███████████████████████████████████████████████████████████████| 100/100 [00:03<00:00, 32.25batches/s]\n",
      "Epoc 17/20: 100%|███████████████████████████████████████████████████████████████| 100/100 [00:03<00:00, 32.28batches/s]\n",
      "Epoc 18/20: 100%|███████████████████████████████████████████████████████████████| 100/100 [00:03<00:00, 32.33batches/s]\n",
      "Epoc 19/20: 100%|███████████████████████████████████████████████████████████████| 100/100 [00:03<00:00, 32.37batches/s]\n",
      "Epoc 20/20: 100%|███████████████████████████████████████████████████████████████| 100/100 [00:03<00:00, 32.48batches/s]\n"
     ]
    },
    {
     "data": {
      "image/png": "[encoded data removed]",
      "text/plain": [
       "<matplotlib.figure.Figure at 0x22883f53978>"
      ]
     },
     "metadata": {},
     "output_type": "display_data"
    },
    {
     "name": "stdout",
     "output_type": "stream",
     "text": [
      "0.8273\n",
      "0.9132776\n"
     ]
    }
   ],
   "source": [
    "import math\n",
    "\n",
    "epochs = 20\n",
    "batch_size = 2000\n",
    "learning_rate = .1\n",
    "\n",
    "optimizer = tf.train.GradientDescentOptimizer(learning_rate).minimize(loss)\n",
    "\n",
    "test_accuracy = 0.0\n",
    "\n",
    "log_batch_step = 50\n",
    "batches = []\n",
    "loss_batch = []\n",
    "train_acc_batch = []\n",
    "test_acc_batch = []\n",
    "\n",
    "with tf.Session() as session:\n",
    "    session.run(init)\n",
    "    batch_count = int(math.ceil(train_features.shape[0]/batch_size))\n",
    "    \n",
    "    for epoch_i in range(epochs):\n",
    "        \n",
    "        batches_pbar = tqdm(range(batch_count), desc='Epoc {:>2}/{}'.format(epoch_i+1, epochs), unit='batches')\n",
    "        \n",
    "        for batch_i in batches_pbar:\n",
    "            batch_start = batch_i * batch_size\n",
    "            batch_features = train_features[batch_start:(batch_start + batch_size)]\n",
    "            batch_labels = train_labels[batch_start:(batch_start + batch_size)]\n",
    "            \n",
    "            session.run(optimizer, feed_dict={features: batch_features, labels: batch_labels})\n",
    "            l = session.run(loss, feed_dict={features: batch_features, labels: batch_labels})\n",
    "            \n",
    "            if not batch_i % log_batch_step:\n",
    "                train_acc = session.run(accuracy, feed_dict=train_feed_dict)\n",
    "                test_acc = session.run(accuracy, feed_dict=test_feed_dict)\n",
    "                \n",
    "                previous_batch = batches[-1] if batches else 0\n",
    "                batches.append(log_batch_step + previous_batch)\n",
    "                loss_batch.append(l)\n",
    "                train_acc_batch.append(train_acc)\n",
    "                test_acc_batch.append(test_acc)\n",
    "                \n",
    "    test_acc = session.run(accuracy, feed_dict=test_feed_dict)\n",
    "    test_loss = session.run(loss, feed_dict=test_feed_dict)\n",
    "        \n",
    "loss_plot = plt.subplot(211)\n",
    "loss_plot.set_title('Loss')\n",
    "loss_plot.plot(batches, np.log10(loss_batch), 'g')\n",
    "loss_plot.set_xlim([batches[0], batches[-1]])\n",
    "acc_plot = plt.subplot(212)\n",
    "acc_plot.set_title('Accuracy')\n",
    "acc_plot.plot(batches, train_acc_batch, 'r', label='Training Accuracy')\n",
    "acc_plot.plot(batches, test_acc_batch, 'x', label='Test Accuracy')\n",
    "acc_plot.set_ylim([0, 1.0])\n",
    "acc_plot.set_xlim([batches[0], batches[-1]])\n",
    "acc_plot.legend(loc='lower right')\n",
    "plt.tight_layout()\n",
    "plt.show()\n",
    "print(test_acc)\n",
    "print(test_loss)"
   ]
  },
  {
   "cell_type": "code",
   "execution_count": 129,
   "metadata": {
    "scrolled": true
   },
   "outputs": [
    {
     "data": {
      "image/png": "[encoded data removed]",
      "text/plain": [
       "<matplotlib.figure.Figure at 0x22883d75be0>"
      ]
     },
     "metadata": {},
     "output_type": "display_data"
    },
    {
     "name": "stdout",
     "output_type": "stream",
     "text": [
      "0.8466\n",
      "0.7456181\n"
     ]
    }
   ],
   "source": [
    "loss_plot = plt.subplot(211)\n",
    "loss_plot.set_title('Loss')\n",
    "loss_plot.plot(batches, np.log10(loss_batch), 'g')\n",
    "loss_plot.set_xlim([batches[0], batches[-1]])\n",
    "acc_plot = plt.subplot(212)\n",
    "acc_plot.set_title('Accuracy')\n",
    "acc_plot.plot(batches, train_acc_batch, 'r', label='Training Accuracy')\n",
    "acc_plot.plot(batches, test_acc_batch, 'x', label='Test Accuracy')\n",
    "acc_plot.set_ylim([0, 1.0])\n",
    "acc_plot.set_xlim([batches[0], batches[-1]])\n",
    "acc_plot.legend(loc='lower right')\n",
    "plt.tight_layout()\n",
    "plt.show()\n",
    "print(test_acc)\n",
    "print(test_loss)"
   ]
  }
 ],
 "metadata": {
  "kernelspec": {
   "display_name": "Python 3",
   "language": "python",
   "name": "python3"
  },
  "language_info": {
   "codemirror_mode": {
    "name": "ipython",
    "version": 3
   },
   "file_extension": ".py",
   "mimetype": "text/x-python",
   "name": "python",
   "nbconvert_exporter": "python",
   "pygments_lexer": "ipython3",
   "version": "3.5.4"
  },
  "widgets": {
   "state": {},
   "version": "1.1.2"
  }
 },
 "nbformat": 4,
 "nbformat_minor": 2
}
